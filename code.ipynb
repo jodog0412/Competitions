{
  "nbformat": 4,
  "nbformat_minor": 0,
  "metadata": {
    "colab": {
      "private_outputs": true,
      "provenance": [],
      "mount_file_id": "1bf0qmroyVxtb12SzpWqBTG8Auzx5lxX6",
      "authorship_tag": "ABX9TyNtsP+9Tm+g3zvJjwkSxMpC",
      "include_colab_link": true
    },
    "kernelspec": {
      "name": "python3",
      "display_name": "Python 3"
    },
    "language_info": {
      "name": "python"
    }
  },
  "cells": [
    {
      "cell_type": "markdown",
      "metadata": {
        "id": "view-in-github",
        "colab_type": "text"
      },
      "source": [
        "<a href=\"https://colab.research.google.com/github/jodog0412/gene-kind-classification-competition-/blob/main/code.ipynb\" target=\"_parent\"><img src=\"https://colab.research.google.com/assets/colab-badge.svg\" alt=\"Open In Colab\"/></a>"
      ]
    },
    {
      "cell_type": "code",
      "source": [
        "!pip install category-encoders\n",
        "!pip install --upgrade pycaret\n",
        "# !pip install markupsafe==2.0.1"
      ],
      "metadata": {
        "id": "DnSSRNMY-5Bp"
      },
      "execution_count": null,
      "outputs": []
    },
    {
      "cell_type": "code",
      "execution_count": null,
      "metadata": {
        "id": "QMSFSdaQlN2-"
      },
      "outputs": [],
      "source": [
        "import numpy as np \n",
        "import random\n",
        "import os\n",
        "import pandas as pd \n",
        "import matplotlib.pyplot as plt\n",
        "\n",
        "class CFG:\n",
        "    SEED = 26\n",
        "\n",
        "def seed_everything(seed):\n",
        "    random.seed(seed)\n",
        "    os.environ['PYTHONHASHSEED'] = str(seed)\n",
        "    np.random.seed(seed)\n",
        "seed_everything(CFG.SEED) # Seed 고정"
      ]
    },
    {
      "cell_type": "code",
      "source": [
        "train=pd.read_csv(\"/content/drive/MyDrive/Colab Notebooks/Competition/유전체 정보 품종 분류/dataset/train.csv\")\n",
        "test=pd.read_csv(\"/content/drive/MyDrive/Colab Notebooks/Competition/유전체 정보 품종 분류/dataset/test.csv\")\n",
        "snp=pd.read_csv(\"/content/drive/MyDrive/Colab Notebooks/Competition/유전체 정보 품종 분류/dataset/snp_info.csv\")"
      ],
      "metadata": {
        "id": "PaIMyDZamxL3"
      },
      "execution_count": null,
      "outputs": []
    },
    {
      "cell_type": "code",
      "source": [
        "train.head()"
      ],
      "metadata": {
        "id": "CIbc5mw65NIv"
      },
      "execution_count": null,
      "outputs": []
    },
    {
      "cell_type": "code",
      "source": [
        "train_x=train.drop(['id','father','mother','gender','class'],axis=1)\n",
        "train_y=train.iloc[:,-1]\n",
        "test_x=test.drop(['id','father','mother','gender'],axis=1)"
      ],
      "metadata": {
        "id": "okQOcCtXm_Uc"
      },
      "execution_count": null,
      "outputs": []
    },
    {
      "cell_type": "code",
      "source": [
        "train_x['2_BTA'] = train_x['SNP_01']\n",
        "train_x['chrom_6'] = train_x['SNP_02'] + '-'+ train_x['SNP_03'] + '-' + train_x['SNP_04'] + '-' + train_x['SNP_05'] + '-' + train_x['SNP_06'] + '-' + train_x['SNP_07'] + '-' + train_x['SNP_08'] + '-' + train_x['SNP_09']\n",
        "train_x['6_ARS_Parent'] = train_x['SNP_02']\n",
        "train_x['6_ARS_BFGL'] = train_x['SNP_03'] + '-' + train_x['SNP_04'] + '-' + train_x['SNP_09']\n",
        "train_x['6_BOVINE'] = train_x['SNP_05'] + '-' + train_x['SNP_06'] + '-' + train_x['SNP_08']\n",
        "train_x['6_HAPMAP'] = train_x['SNP_07']\n",
        "train_x['7_BTB'] = train_x['SNP_10']\n",
        "train_x['8_ARS'] = train_x['SNP_11']\n",
        "train_x['chrom_9'] = train_x['SNP_12'] + '-' + train_x['SNP_13'] + '-' + train_x['SNP_14']\n",
        "train_x['9_HAPMAP'] = train_x['SNP_12'] + '-' + train_x['SNP_14']\n",
        "train_x['9_BTB'] = train_x['SNP_13']\n",
        "train_x['10_BOVINE'] = train_x['SNP_15']\n",
        "train_x['SNP_total'] = train_x['SNP_01'] + '-' + train_x['SNP_02'] + '-' + train_x['SNP_03'] + '-' + train_x['SNP_04'] + '-' + train_x['SNP_05'] + '-' + train_x['SNP_06'] + '-' + train_x['SNP_07'] + '-' + train_x['SNP_08'] + '-' + train_x['SNP_09'] + '-' + train_x['SNP_10'] + '-' + train_x['SNP_11'] + '-' + train_x['SNP_12'] + '-' + train_x['SNP_13'] + '-' + train_x['SNP_14'] + '-' + train_x['SNP_15']  "
      ],
      "metadata": {
        "id": "nghFWs7ppDFs"
      },
      "execution_count": null,
      "outputs": []
    },
    {
      "cell_type": "code",
      "source": [
        "test_x['2_BTA'] = test_x['SNP_01']\n",
        "test_x['chrom_6'] = test_x['SNP_02'] + '-'+ test_x['SNP_03'] + '-' + test_x['SNP_04'] + '-' + test_x['SNP_05'] + '-' + test_x['SNP_06'] + '-' + test_x['SNP_07'] + '-' + test_x['SNP_08'] + '-' + test_x['SNP_09']\n",
        "test_x['6_ARS_Parent'] = test_x['SNP_02']\n",
        "test_x['6_ARS_BFGL'] = test_x['SNP_03'] + '-' + test_x['SNP_04'] + '-' + test_x['SNP_09']\n",
        "test_x['6_BOVINE'] = test_x['SNP_05'] + '-' + test_x['SNP_06'] + '-' + test_x['SNP_08']\n",
        "test_x['6_HAPMAP'] = test_x['SNP_07']\n",
        "test_x['7_BTB'] = test_x['SNP_10']\n",
        "test_x['8_ARS'] = test_x['SNP_11']\n",
        "test_x['chrom_9'] = test_x['SNP_12'] + '-' + test_x['SNP_13'] + '-' + test_x['SNP_14']\n",
        "test_x['9_HAPMAP'] = test_x['SNP_12'] + '-' + test_x['SNP_14']\n",
        "test_x['9_BTB'] = test_x['SNP_13']\n",
        "test_x['10_BOVINE'] = test_x['SNP_15']\n",
        "test_x['SNP_total'] = test_x['SNP_01'] + '-' + test_x['SNP_02'] + '-' + test_x['SNP_03'] + '-' + test_x['SNP_04'] + '-' + test_x['SNP_05'] + '-' + test_x['SNP_06'] + '-' + test_x['SNP_07'] + '-' + test_x['SNP_08'] + '-' + test_x['SNP_09'] + '-' + test_x['SNP_10'] + '-' + test_x['SNP_11'] + '-' + test_x['SNP_12'] + '-' + test_x['SNP_13'] + '-' + test_x['SNP_14'] + '-' + test_x['SNP_15'] "
      ],
      "metadata": {
        "id": "zse_6tzwp7kV"
      },
      "execution_count": null,
      "outputs": []
    },
    {
      "cell_type": "code",
      "source": [
        "def blank(data, columns):\n",
        "    for i in columns :\n",
        "        data[i] = data[i].apply(lambda x : x.replace(\" \",\"\"))\n",
        "    return data"
      ],
      "metadata": {
        "id": "VgU98g-SqHrT"
      },
      "execution_count": null,
      "outputs": []
    },
    {
      "cell_type": "code",
      "source": [
        "target_columns = train_x.iloc[:,16:].columns.to_list()\n",
        "train_x=blank(train_x,target_columns)\n",
        "test_x=blank(test_x,target_columns)"
      ],
      "metadata": {
        "id": "dnVbZpjnqRT1"
      },
      "execution_count": null,
      "outputs": []
    },
    {
      "cell_type": "code",
      "source": [
        "train_x['concat'] = train_x.iloc[:,1:16].sum(axis=1).apply(lambda x : x.replace(\" \",\"\"))\n",
        "train_x['numGC'] = train_x['concat'].apply(lambda x : x.count('C')+x.count('G'))\n",
        "train_x['numA'] = train_x['concat'].apply(lambda x : x.count('A'))\n",
        "train_x['numGC^2'] = train_x['numGC']**2\n",
        "train_x['sub'] = train_x['numGC'] - train_x['numA']\n",
        "train_x['H'] = train_x['numGC']*3 + train_x['numA']*2"
      ],
      "metadata": {
        "id": "oCVQblFBtBcs"
      },
      "execution_count": null,
      "outputs": []
    },
    {
      "cell_type": "code",
      "source": [
        "test_x['concat'] = test_x.iloc[:,1:16].sum(axis=1).apply(lambda x : x.replace(\" \",\"\"))\n",
        "test_x['numGC'] = test_x['concat'].apply(lambda x : x.count('C')+x.count('G'))\n",
        "test_x['numA'] = test_x['concat'].apply(lambda x : x.count('A'))\n",
        "test_x['numGC^2'] = test_x['numGC']**2\n",
        "test_x['sub'] = test_x['numGC'] - test_x['numA']\n",
        "test_x['H'] = test_x['numGC']*3 + test_x['numA']*2"
      ],
      "metadata": {
        "id": "6UQygmdfv3pC"
      },
      "execution_count": null,
      "outputs": []
    },
    {
      "cell_type": "code",
      "source": [
        "train_x['trait'] = train_x['trait'].astype('object')\n",
        "test_x['trait'] = test_x['trait'].astype('object')"
      ],
      "metadata": {
        "id": "x-E2jNgrv_Md"
      },
      "execution_count": null,
      "outputs": []
    },
    {
      "cell_type": "code",
      "source": [
        "cat_features = train_x.select_dtypes(include=['object']).columns.to_list()\n",
        "num_features = train_x.select_dtypes(exclude=['object']).columns.to_list()"
      ],
      "metadata": {
        "id": "pzKJ4Xi5wAY-"
      },
      "execution_count": null,
      "outputs": []
    },
    {
      "cell_type": "code",
      "source": [
        "from sklearn.preprocessing import StandardScaler, LabelEncoder"
      ],
      "metadata": {
        "id": "AYxmpSacwHk2"
      },
      "execution_count": null,
      "outputs": []
    },
    {
      "cell_type": "code",
      "source": [
        "scaler = StandardScaler()\n",
        "train_x[num_features] = scaler.fit_transform(train_x[num_features])\n",
        "test_x[num_features] = scaler.transform(test_x[num_features])"
      ],
      "metadata": {
        "id": "zvVezzMzwBea"
      },
      "execution_count": null,
      "outputs": []
    },
    {
      "cell_type": "code",
      "source": [
        "import category_encoders as ce"
      ],
      "metadata": {
        "id": "j4oEx0rxwwwp"
      },
      "execution_count": null,
      "outputs": []
    },
    {
      "cell_type": "code",
      "source": [
        "def catboost_encoder_multiclass(X,X_t,y):\n",
        "    y = y.astype(str)\n",
        "    enc = ce.OneHotEncoder().fit(y)\n",
        "    y_onehot = enc.transform(y)\n",
        "    class_names = y_onehot.columns\n",
        "    X_obj = X.select_dtypes('object')\n",
        "    X_t_obj = X_t.select_dtypes('object')\n",
        "    X = X.select_dtypes(exclude='object')\n",
        "    X_t = X_t.select_dtypes(exclude='object') \n",
        "    for class_ in class_names:\n",
        "        enc = ce.CatBoostEncoder()\n",
        "        enc.fit(X_obj,y_onehot[class_])\n",
        "        temp = enc.transform(X_obj)\n",
        "        temp_t = enc.transform(X_t_obj)\n",
        "        temp.columns = [str(x)+'_'+str(class_) for x in temp.columns]\n",
        "        temp_t.columns = [str(x)+'_'+str(class_) for x in temp_t.columns]\n",
        "        X = pd.concat([X,temp],axis=1)\n",
        "        X_t = pd.concat([X_t,temp_t],axis=1)\n",
        "      \n",
        "    return X, X_t\n",
        "\n",
        "train_x, test_x = catboost_encoder_multiclass(train_x,test_x,train_y)"
      ],
      "metadata": {
        "id": "zlVnQ_dPwrps"
      },
      "execution_count": null,
      "outputs": []
    },
    {
      "cell_type": "code",
      "source": [
        "train_x.describe()"
      ],
      "metadata": {
        "id": "_IVgAQsm_PGp"
      },
      "execution_count": null,
      "outputs": []
    },
    {
      "cell_type": "code",
      "source": [
        "train_x['class']=train['class'].values"
      ],
      "metadata": {
        "id": "J9r6xbO6yCPP"
      },
      "execution_count": null,
      "outputs": []
    },
    {
      "cell_type": "code",
      "source": [
        "class_le = LabelEncoder()\n",
        "train_y = class_le.fit_transform(train_y)\n",
        "train_x['class'] = class_le.transform(train_x['class'])"
      ],
      "metadata": {
        "id": "1FgbxdhSF-BF"
      },
      "execution_count": null,
      "outputs": []
    },
    {
      "cell_type": "code",
      "source": [
        "from imblearn.over_sampling import BorderlineSMOTE"
      ],
      "metadata": {
        "id": "ZiyfHa0A-9SJ"
      },
      "execution_count": null,
      "outputs": []
    },
    {
      "cell_type": "code",
      "source": [
        "train_x,train_y = BorderlineSMOTE(random_state=CFG.SEED).fit_resample(train_x,train_y)"
      ],
      "metadata": {
        "id": "0CObJC7L-5AQ"
      },
      "execution_count": null,
      "outputs": []
    },
    {
      "cell_type": "code",
      "source": [
        "train_x.describe()"
      ],
      "metadata": {
        "id": "MnPQvWPJxWtM"
      },
      "execution_count": null,
      "outputs": []
    },
    {
      "cell_type": "code",
      "source": [
        "from pycaret.classification import *"
      ],
      "metadata": {
        "id": "xtSySuUJikw3"
      },
      "execution_count": null,
      "outputs": []
    },
    {
      "cell_type": "code",
      "source": [
        "setup_clf=setup(data=train_x,target='class',train_size=0.8,session_id=777)"
      ],
      "metadata": {
        "id": "NP3l-gFCtywu"
      },
      "execution_count": null,
      "outputs": []
    },
    {
      "cell_type": "code",
      "source": [
        "model = compare_models(sort='F1',fold=3,n_select=5)\n",
        "tuned_model = [tune_model(i) for i in model]\n",
        "blended = blend_models(estimator_list = tuned_model,\n",
        "                       fold = 10,\n",
        "                    #    method = 'soft',\n",
        "                       optimize='F1',\n",
        "                       )\n",
        "final_model = finalize_model(blended)\n",
        "evaluate_model(final_model)"
      ],
      "metadata": {
        "id": "f6mPW4-ZrQJS"
      },
      "execution_count": null,
      "outputs": []
    },
    {
      "cell_type": "code",
      "source": [
        "from pycaret.utils import check_metric\n",
        "\n",
        "prediction = predict_model(final_model, data=test_x)\n",
        "prediction\n"
      ],
      "metadata": {
        "id": "zZNQLEQTJErU"
      },
      "execution_count": null,
      "outputs": []
    },
    {
      "cell_type": "code",
      "source": [
        "submission = pd.read_csv(\"/content/drive/MyDrive/Colab Notebooks/Competition/유전체 정보 품종 분류/dataset/sample_submission.csv\")\n",
        "submission.iloc[:,1]=class_le.inverse_transform(prediction.Label)"
      ],
      "metadata": {
        "id": "0Pr1qvA6x9hZ"
      },
      "execution_count": null,
      "outputs": []
    },
    {
      "cell_type": "code",
      "source": [
        "submission"
      ],
      "metadata": {
        "id": "XcJBD2JTupu3"
      },
      "execution_count": null,
      "outputs": []
    },
    {
      "cell_type": "code",
      "source": [
        "submission.to_csv(\"/content/drive/MyDrive/Colab Notebooks/Competition/유전체 정보 품종 분류/automl_compete.csv\", index=False)"
      ],
      "metadata": {
        "id": "_2iR3VRJu_LJ"
      },
      "execution_count": null,
      "outputs": []
    },
    {
      "cell_type": "code",
      "source": [],
      "metadata": {
        "id": "DvY_mOPG25Mp"
      },
      "execution_count": null,
      "outputs": []
    }
  ]
}